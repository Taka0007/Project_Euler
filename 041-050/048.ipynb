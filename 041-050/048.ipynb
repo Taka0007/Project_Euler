{
  "nbformat": 4,
  "nbformat_minor": 0,
  "metadata": {
    "colab": {
      "provenance": [],
      "authorship_tag": "ABX9TyNPHbvspHo//l6ZHxBBuIaI",
      "include_colab_link": true
    },
    "kernelspec": {
      "name": "python3",
      "display_name": "Python 3"
    },
    "language_info": {
      "name": "python"
    }
  },
  "cells": [
    {
      "cell_type": "markdown",
      "metadata": {
        "id": "view-in-github",
        "colab_type": "text"
      },
      "source": [
        "<a href=\"https://colab.research.google.com/github/Taka0007/Project_Euler/blob/main/041-050/048.ipynb\" target=\"_parent\"><img src=\"https://colab.research.google.com/assets/colab-badge.svg\" alt=\"Open In Colab\"/></a>"
      ]
    },
    {
      "cell_type": "code",
      "source": [
        "import time\n",
        "from sympy.ntheory import factorint\n",
        "\n",
        "def solve():\n",
        "  ans = 0\n",
        "  Z = 10**10\n",
        "\n",
        "  for i in range(1,1001):\n",
        "    ans = ( ans + (i**i)%Z ) % Z\n",
        "\n",
        "  print(ans)\n",
        "\n",
        "\n",
        "if __name__ == '__main__':\n",
        "    start = time.time()\n",
        "    solve()\n",
        "    elapsed_time = time.time() - start\n",
        "    print (\"経過時間:{0}\".format(elapsed_time) + \"[sec]\")"
      ],
      "metadata": {
        "colab": {
          "base_uri": "https://localhost:8080/"
        },
        "id": "GoeWgPOHmmc8",
        "outputId": "59de5264-4fce-4abb-9d5c-5dd9e3da0456"
      },
      "execution_count": 5,
      "outputs": [
        {
          "output_type": "stream",
          "name": "stdout",
          "text": [
            "9110846700\n",
            "経過時間:0.01186680793762207[sec]\n"
          ]
        }
      ]
    }
  ]
}