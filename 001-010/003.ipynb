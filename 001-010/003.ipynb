{
  "nbformat": 4,
  "nbformat_minor": 0,
  "metadata": {
    "colab": {
      "provenance": [],
      "authorship_tag": "ABX9TyMfNzikBOqzHTpqgV2N3xgc",
      "include_colab_link": true
    },
    "kernelspec": {
      "name": "python3",
      "display_name": "Python 3"
    },
    "language_info": {
      "name": "python"
    }
  },
  "cells": [
    {
      "cell_type": "markdown",
      "metadata": {
        "id": "view-in-github",
        "colab_type": "text"
      },
      "source": [
        "<a href=\"https://colab.research.google.com/github/Taka0007/Project_Euler/blob/main/001-010/003.ipynb\" target=\"_parent\"><img src=\"https://colab.research.google.com/assets/colab-badge.svg\" alt=\"Open In Colab\"/></a>"
      ]
    },
    {
      "cell_type": "code",
      "source": [
        "import time\n",
        "from sympy.ntheory import factorint\n",
        "\n",
        "def solve():\n",
        "  factorized = factorint(600851475143)\n",
        "  ans = max(factorized.keys())\n",
        "\n",
        "  print(ans)\n",
        "  \n",
        "\n",
        "if __name__ == '__main__':\n",
        "    start = time.time()\n",
        "    solve()\n",
        "    elapsed_time = time.time() - start\n",
        "    print (\"経過時間:{0}\".format(elapsed_time) + \"[sec]\")"
      ],
      "metadata": {
        "colab": {
          "base_uri": "https://localhost:8080/"
        },
        "id": "GoeWgPOHmmc8",
        "outputId": "514716dd-9bca-472c-9fb7-783c85ec8910"
      },
      "execution_count": 4,
      "outputs": [
        {
          "output_type": "stream",
          "name": "stdout",
          "text": [
            "6857\n",
            "経過時間:0.0003864765167236328[sec]\n"
          ]
        }
      ]
    }
  ]
}