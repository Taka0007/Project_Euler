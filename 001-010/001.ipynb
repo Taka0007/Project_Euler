{
  "nbformat": 4,
  "nbformat_minor": 0,
  "metadata": {
    "colab": {
      "provenance": [],
      "authorship_tag": "ABX9TyO8RreCXMPvR9/Z8h8PuoUK",
      "include_colab_link": true
    },
    "kernelspec": {
      "name": "python3",
      "display_name": "Python 3"
    },
    "language_info": {
      "name": "python"
    }
  },
  "cells": [
    {
      "cell_type": "markdown",
      "metadata": {
        "id": "view-in-github",
        "colab_type": "text"
      },
      "source": [
        "<a href=\"https://colab.research.google.com/github/Taka0007/Project_Euler/blob/main/001-010/001.ipynb\" target=\"_parent\"><img src=\"https://colab.research.google.com/assets/colab-badge.svg\" alt=\"Open In Colab\"/></a>"
      ]
    },
    {
      "cell_type": "code",
      "source": [
        "import time\n",
        "\n",
        "if __name__ == '__main__':\n",
        "    start = time.time()\n",
        "    \n",
        "\n",
        "    ### Fill in the operation here\n",
        "    ans = 0\n",
        "\n",
        "    for i in range(3,1000):    \n",
        "      if i%3==0 or i%5==0:\n",
        "          ans += i\n",
        "        \n",
        "    print(ans)\n",
        "    \n",
        "    \n",
        "    elapsed_time = time.time() - start\n",
        "    print (\"経過時間:{0}\".format(elapsed_time) + \"[sec]\")"
      ],
      "metadata": {
        "colab": {
          "base_uri": "https://localhost:8080/"
        },
        "id": "GoeWgPOHmmc8",
        "outputId": "414437d4-c3ea-411f-a934-9f114a34b398"
      },
      "execution_count": 1,
      "outputs": [
        {
          "output_type": "stream",
          "name": "stdout",
          "text": [
            "233168\n",
            "経過時間:0.00448155403137207[sec]\n"
          ]
        }
      ]
    }
  ]
}