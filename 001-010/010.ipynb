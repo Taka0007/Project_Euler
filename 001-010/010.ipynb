{
  "nbformat": 4,
  "nbformat_minor": 0,
  "metadata": {
    "colab": {
      "provenance": [],
      "authorship_tag": "ABX9TyNOpywtpthMVAUQ6pl3gX1f",
      "include_colab_link": true
    },
    "kernelspec": {
      "name": "python3",
      "display_name": "Python 3"
    },
    "language_info": {
      "name": "python"
    }
  },
  "cells": [
    {
      "cell_type": "markdown",
      "metadata": {
        "id": "view-in-github",
        "colab_type": "text"
      },
      "source": [
        "<a href=\"https://colab.research.google.com/github/Taka0007/Project_Euler/blob/main/001-010/009.ipynb\" target=\"_parent\"><img src=\"https://colab.research.google.com/assets/colab-badge.svg\" alt=\"Open In Colab\"/></a>"
      ]
    },
    {
      "cell_type": "code",
      "source": [
        "import time\n",
        "from sympy import sieve\n",
        "\n",
        "\n",
        "def solve():\n",
        "  print(sum(sieve.primerange(1,2000000)))  \n",
        "\n",
        "\n",
        "if __name__ == '__main__':\n",
        "    start = time.time()\n",
        "    solve()\n",
        "    elapsed_time = time.time() - start\n",
        "    print (\"経過時間:{0}\".format(elapsed_time) + \"[sec]\")"
      ],
      "metadata": {
        "colab": {
          "base_uri": "https://localhost:8080/"
        },
        "id": "GoeWgPOHmmc8",
        "outputId": "f261d5d4-f522-477b-9fb7-dceb9551a9ef"
      },
      "execution_count": 14,
      "outputs": [
        {
          "output_type": "stream",
          "name": "stdout",
          "text": [
            "142913828922\n",
            "経過時間:0.4425773620605469[sec]\n"
          ]
        }
      ]
    }
  ]
}
