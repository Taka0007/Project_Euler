{
  "nbformat": 4,
  "nbformat_minor": 0,
  "metadata": {
    "colab": {
      "provenance": [],
      "authorship_tag": "ABX9TyNJ1sK2w74VS1hzOd7wHnLm",
      "include_colab_link": true
    },
    "kernelspec": {
      "name": "python3",
      "display_name": "Python 3"
    },
    "language_info": {
      "name": "python"
    }
  },
  "cells": [
    {
      "cell_type": "markdown",
      "metadata": {
        "id": "view-in-github",
        "colab_type": "text"
      },
      "source": [
        "<a href=\"https://colab.research.google.com/github/Taka0007/Project_Euler/blob/main/001-010/008.ipynb\" target=\"_parent\"><img src=\"https://colab.research.google.com/assets/colab-badge.svg\" alt=\"Open In Colab\"/></a>"
      ]
    },
    {
      "cell_type": "code",
      "source": [
        "import time\n",
        "\n",
        "\n",
        "def solve():\n",
        "  #input\n",
        "  N = str(7316717653133062491922511967442657474235534919493496983520312774506326239578318016984801869478851843858615607891129494954595017379583319528532088055111254069874715852386305071569329096329522744304355766896648950445244523161731856403098711121722383113622298934233803081353362766142828064444866452387493035890729629049156044077239071381051585930796086670172427121883998797908792274921901699720888093776657273330010533678812202354218097512545405947522435258490771167055601360483958644670632441572215539753697817977846174064955149290862569321978468622482839722413756570560574902614079729686524145351004748216637048440319989000889524345065854122758866688116427171479924442928230863465674813919123162824586178664583591245665294765456828489128831426076900422421902267105562632111110937054421750694165896040807198403850962455444362981230987879927244284909188845801561660979191338754992005240636899125607176060588611646710940507754100225698315520005593572972571636269561882670428252483600823257530420752963450)\n",
        "  ans = 0\n",
        "\n",
        "  for i in range(1000-13):\n",
        "    num =  1\n",
        "\n",
        "    for j in range(i,i+13):\n",
        "      num *= int(N[j])\n",
        "\n",
        "    ans = max(ans,num)\n",
        "\n",
        "  print(ans)\n",
        "\n",
        "\n",
        "\n",
        "if __name__ == '__main__':\n",
        "    start = time.time()\n",
        "    solve()\n",
        "    elapsed_time = time.time() - start\n",
        "    print (\"経過時間:{0}\".format(elapsed_time) + \"[sec]\")"
      ],
      "metadata": {
        "colab": {
          "base_uri": "https://localhost:8080/"
        },
        "id": "GoeWgPOHmmc8",
        "outputId": "4810dc0f-90a6-4630-ede7-bac1ea81570c"
      },
      "execution_count": 12,
      "outputs": [
        {
          "output_type": "stream",
          "name": "stdout",
          "text": [
            "23514624000\n",
            "経過時間:0.003576040267944336[sec]\n"
          ]
        }
      ]
    }
  ]
}