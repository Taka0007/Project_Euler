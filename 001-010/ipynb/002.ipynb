{
  "nbformat": 4,
  "nbformat_minor": 0,
  "metadata": {
    "colab": {
      "provenance": [],
      "authorship_tag": "ABX9TyMV+uuXR5bQbt6ZNfhxTbF6",
      "include_colab_link": true
    },
    "kernelspec": {
      "name": "python3",
      "display_name": "Python 3"
    },
    "language_info": {
      "name": "python"
    }
  },
  "cells": [
    {
      "cell_type": "markdown",
      "metadata": {
        "id": "view-in-github",
        "colab_type": "text"
      },
      "source": [
        "<a href=\"https://colab.research.google.com/github/Taka0007/Project_Euler/blob/main/001-010/002.ipynb\" target=\"_parent\"><img src=\"https://colab.research.google.com/assets/colab-badge.svg\" alt=\"Open In Colab\"/></a>"
      ]
    },
    {
      "cell_type": "code",
      "source": [
        "import time\n",
        "\n",
        "\n",
        "def solve():\n",
        "  fibo = [1,2]\n",
        "  ans = 2\n",
        "  i = 2\n",
        "\n",
        "  while True:\n",
        "      X = fibo[i-1] + fibo[i-2]\n",
        "      fibo.append(X)\n",
        "  \n",
        "      if fibo[i]>= 4000000:      \n",
        "        break\n",
        "    \n",
        "      if fibo[i]%2==0:\n",
        "        ans += fibo[i]\n",
        "        \n",
        "      i += 1\n",
        "\n",
        "  print(ans)\n",
        "\n",
        "\n",
        "if __name__ == '__main__':\n",
        "    start = time.time()\n",
        "    solve()\n",
        "    elapsed_time = time.time() - start\n",
        "    print (\"経過時間:{0}\".format(elapsed_time) + \"[sec]\")"
      ],
      "metadata": {
        "colab": {
          "base_uri": "https://localhost:8080/"
        },
        "id": "GoeWgPOHmmc8",
        "outputId": "e4410cb0-bc78-4724-d3ef-32ba0ee6a85d"
      },
      "execution_count": 3,
      "outputs": [
        {
          "output_type": "stream",
          "name": "stdout",
          "text": [
            "4613732\n",
            "経過時間:0.0015239715576171875[sec]\n"
          ]
        }
      ]
    }
  ]
}