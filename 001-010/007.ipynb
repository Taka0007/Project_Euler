{
  "nbformat": 4,
  "nbformat_minor": 0,
  "metadata": {
    "colab": {
      "provenance": [],
      "authorship_tag": "ABX9TyN1SrssjWyvTKuvi8epWBEV",
      "include_colab_link": true
    },
    "kernelspec": {
      "name": "python3",
      "display_name": "Python 3"
    },
    "language_info": {
      "name": "python"
    }
  },
  "cells": [
    {
      "cell_type": "markdown",
      "metadata": {
        "id": "view-in-github",
        "colab_type": "text"
      },
      "source": [
        "<a href=\"https://colab.research.google.com/github/Taka0007/Project_Euler/blob/main/001-010/007.ipynb\" target=\"_parent\"><img src=\"https://colab.research.google.com/assets/colab-badge.svg\" alt=\"Open In Colab\"/></a>"
      ]
    },
    {
      "cell_type": "code",
      "source": [
        "import time\n",
        "\n",
        "#高速素因数分解のimport\n",
        "from sympy import isprime\n",
        "\n",
        "def solve():\n",
        "  prime_list = []\n",
        "  i = 2\n",
        "\n",
        "  while len(prime_list) <= 10**4 + 2:\n",
        "    if isprime(i):\n",
        "      prime_list.append(i)\n",
        "\n",
        "    i += 1\n",
        "\n",
        "  print(prime_list[10**4])\n",
        "\n",
        "\n",
        "if __name__ == '__main__':\n",
        "    start = time.time()\n",
        "    solve()\n",
        "    elapsed_time = time.time() - start\n",
        "    print (\"経過時間:{0}\".format(elapsed_time) + \"[sec]\")"
      ],
      "metadata": {
        "colab": {
          "base_uri": "https://localhost:8080/"
        },
        "id": "GoeWgPOHmmc8",
        "outputId": "530a7b73-4999-41aa-9dbe-c80b905a51a1"
      },
      "execution_count": 8,
      "outputs": [
        {
          "output_type": "stream",
          "name": "stdout",
          "text": [
            "104743\n",
            "経過時間:0.13428878784179688[sec]\n"
          ]
        }
      ]
    }
  ]
}